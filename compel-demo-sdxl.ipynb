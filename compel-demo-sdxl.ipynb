{
 "cells": [
  {
   "cell_type": "code",
   "execution_count": null,
   "id": "4f9760a4-bfea-4def-a5be-1a00a4babba2",
   "metadata": {},
   "outputs": [],
   "source": [
    "%load_ext autoreload\n",
    "%autoreload 2"
   ]
  },
  {
   "cell_type": "code",
   "execution_count": null,
   "id": "593b47bf",
   "metadata": {
    "scrolled": true
   },
   "outputs": [],
   "source": [
    "from compel import Compel, ReturnedEmbeddingsType\n",
    "from diffusers import DiffusionPipeline\n",
    "import torch\n",
    "\n",
    "device='cuda'\n",
    "pipeline = DiffusionPipeline.from_pretrained(\"stabilityai/stable-diffusion-xl-base-1.0\", variant=\"fp16\", use_safetensors=True, torch_dtype=torch.float16).to(device)\n",
    "\n",
    "compel = Compel(tokenizer=[pipeline.tokenizer, pipeline.tokenizer_2] , text_encoder=[pipeline.text_encoder, pipeline.text_encoder_2], returned_embeddings_type=ReturnedEmbeddingsType.PENULTIMATE_HIDDEN_STATES_NON_NORMALIZED, requires_pooled=[False, True])\n"
   ]
  },
  {
   "cell_type": "code",
   "execution_count": null,
   "id": "22f5e38b",
   "metadata": {
    "collapsed": false
   },
   "outputs": [],
   "source": [
    "# upweight \"ball\"\n",
    "prompt = \"a cat playing with a ball++ in the forest\"\n",
    "negative_prompt = \"deformed, ugly\"\n",
    "conditioning, pooled = compel([prompt, negative_prompt])\n",
    "print(conditioning.shape, pooled.shape)\n"
   ]
  },
  {
   "cell_type": "code",
   "execution_count": null,
   "id": "821a38a5",
   "metadata": {
    "collapsed": false,
    "scrolled": true
   },
   "outputs": [],
   "source": [
    "# generate image\n",
    "image = pipeline(prompt_embeds=conditioning[0:1], pooled_prompt_embeds=pooled[0:1], \n",
    "                 negative_prompt_embeds=conditioning[1:2], negative_pooled_prompt_embeds=pooled[1:2],\n",
    "                 num_inference_steps=24, width=768, height=768).images[0]\n",
    "image"
   ]
  },
  {
   "cell_type": "code",
   "execution_count": null,
   "outputs": [],
   "source": [
    "# long prompts\n",
    "\n",
    "compel = Compel(tokenizer=[pipeline.tokenizer, pipeline.tokenizer_2] , \n",
    "                text_encoder=[pipeline.text_encoder, pipeline.text_encoder_2], \n",
    "                returned_embeddings_type=ReturnedEmbeddingsType.PENULTIMATE_HIDDEN_STATES_NON_NORMALIZED, \n",
    "                requires_pooled=[False, True],\n",
    "               truncate_long_prompts=False)\n",
    "\n",
    "prompt = \"a cat playing with a ball++ in the forest\"\n",
    "negative_prompt = \"a long long long long long long long long long long long long long long long long long long long long long long long long long long long long long long long long long long long long long long long long long long long long long long long long long long long long long long long long long long long long long long long long long long long long long long long long long long long long long long long long long long long long long long long long long long long long long long long long long long long long long long long long long long long long long long long long long long negative prompt\"\n",
    "conditioning, pooled = compel([prompt, negative_prompt])\n",
    "print(conditioning.shape, pooled.shape)\n",
    "\n",
    "image = pipeline(prompt_embeds=conditioning[0:1], pooled_prompt_embeds=pooled[0:1], \n",
    "                 negative_prompt_embeds=conditioning[1:2], negative_pooled_prompt_embeds=pooled[1:2],\n",
    "                 num_inference_steps=24, width=768, height=768).images[0]\n",
    "image"
   ],
   "metadata": {
    "collapsed": false
   },
   "id": "e9941e0e42e76b6"
  },
  {
   "cell_type": "code",
   "execution_count": null,
   "id": "1685e7f8-1e41-46c1-92f8-9dcfec025db0",
   "metadata": {},
   "outputs": [],
   "source": [
    "# sequential cpu offload\n",
    "\n",
    "compel = Compel(tokenizer=[pipeline.tokenizer, pipeline.tokenizer_2] , \n",
    "                text_encoder=[pipeline.text_encoder, pipeline.text_encoder_2], \n",
    "                returned_embeddings_type=ReturnedEmbeddingsType.PENULTIMATE_HIDDEN_STATES_NON_NORMALIZED, \n",
    "                requires_pooled=[False, True],\n",
    "                device=\"cuda\")\n",
    "\n",
    "pipeline.enable_sequential_cpu_offload()\n",
    "prompt = \"a cat playing with a ball++ in the forest\"\n",
    "negative_prompt = \"deformed, ugly\"\n",
    "conditioning, pooled = compel([prompt, negative_prompt])\n",
    "print(conditioning.shape, pooled.shape)\n",
    "\n",
    "image = pipeline(prompt_embeds=conditioning[0:1], pooled_prompt_embeds=pooled[0:1], \n",
    "                 negative_prompt_embeds=conditioning[1:2], negative_pooled_prompt_embeds=pooled[1:2],\n",
    "                 num_inference_steps=24, width=768, height=768).images[0]\n",
    "image"
   ]
  }
 ],
 "metadata": {
  "kernelspec": {
   "display_name": "Python 3 (ipykernel)",
   "language": "python",
   "name": "python3"
  },
  "language_info": {
   "codemirror_mode": {
    "name": "ipython",
    "version": 3
   },
   "file_extension": ".py",
   "mimetype": "text/x-python",
   "name": "python",
   "nbconvert_exporter": "python",
   "pygments_lexer": "ipython3",
   "version": "3.10.11"
  }
 },
 "nbformat": 4,
 "nbformat_minor": 5
}
